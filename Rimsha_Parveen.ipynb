{
  "nbformat": 4,
  "nbformat_minor": 0,
  "metadata": {
    "colab": {
      "provenance": []
    },
    "kernelspec": {
      "name": "python3",
      "display_name": "Python 3"
    },
    "language_info": {
      "name": "python"
    }
  },
  "cells": [
    {
      "cell_type": "code",
      "execution_count": 1,
      "metadata": {
        "colab": {
          "base_uri": "https://localhost:8080/"
        },
        "id": "Uz3DEsWmq7IF",
        "outputId": "87ea317b-6b6f-4b63-9b90-f2a22f63e0cc"
      },
      "outputs": [
        {
          "output_type": "stream",
          "name": "stdout",
          "text": [
            "Enter first number45\n",
            "Enter Second number44\n",
            "sum: 89.0\n",
            "difference: 1.0\n",
            "product: 1980.0\n",
            "quotient: 1.0227272727272727\n"
          ]
        }
      ],
      "source": [
        "## Simple Calculater\n",
        "\n",
        "num1 = float(input(\"Enter first number\"))\n",
        "\n",
        "\n",
        "\n",
        "num2 = float(input(\"Enter Second number\"))\n",
        "\n",
        "\n",
        "\n",
        "sum = num1 + num2\n",
        "difference = num1 - num2\n",
        "product = num1 * num2\n",
        "quotient = num1 / num2\n",
        "\n",
        "\n",
        "print(\"sum:\" , sum)\n",
        "print(\"difference:\" , difference)\n",
        "print(\"product:\" , product)\n",
        "print(\"quotient:\" , quotient)\n",
        "\n",
        "\n",
        "\n"
      ]
    }
  ]
}